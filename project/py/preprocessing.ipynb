{
 "cells": [
  {
   "cell_type": "code",
   "execution_count": null,
   "metadata": {},
   "outputs": [],
   "source": [
    "import pandas as pd\n",
    "import numpy as np\n",
    "from sklearn.decomposition import PCA\n",
    "import os"
   ]
  },
  {
   "cell_type": "code",
   "execution_count": null,
   "metadata": {},
   "outputs": [],
   "source": [
    "print('Start Parsing.\\nParsing year 2020')\n",
    "data=pd.read_csv('../raw/players_20.csv')\n",
    "restr=data[0:4000]\n",
    "restr['player_url'].to_csv('../data/urlsTemp.csv',index=False)\n",
    "restr=restr[['sofifa_id','short_name','age','nationality','overall','player_positions','pace','shooting','passing','dribbling','defending','physic']]\n",
    "\n",
    "l1 = ['pace','shooting','passing','dribbling','defending','physic']\n",
    "l2 = ['gk_diving','gk_handling','gk_kicking','gk_reflexes','gk_speed','gk_positioning']\n",
    "roledic = {'GK':'GK','LS':'F','ST':'F','RS':'F','LW':'F','LF':'F','CF':'F','RF':'F','RW':'F','LAM':'M','CAM':'M','RAM':'M','LM':'M','LCM':'M','CM':'M','RCM':'M','RM':'M','LWB':'D','LDM':'D','CDM':'D','RDM':'D','RWB':'D','LB':'D','LCB':'D','CB':'D','RCB':'D','RB':'D'}\n",
    "\n",
    "for i in range(restr.shape[0]):\n",
    "    restr.loc[i,'player_positions']=roledic[restr.loc[i,'player_positions'].split(',')[0]]\n",
    "    if np.isnan(restr.loc[i, 'pace']):\n",
    "        for j,k in zip(l1,l2):\n",
    "            restr.loc[i,j]=data.loc[i,k]\n",
    "\n",
    "restr.columns = ['sofifa_id','short_name','age','nationality','overall20','player_positions','pace_diving','shooting_handling','passing_kicking','dribbling_reflexes','defending_speed','physic_positioning']\n",
    "restr.to_csv('../data/data20.csv',index=False)\n",
    "\n",
    "for year in range(15,20):\n",
    "    print('Parsing year 20'+str(year))\n",
    "    overyear='overall'+str(year)\n",
    "    file='../raw/players_'+str(year)+'.csv'\n",
    "    restr.join(pd.DataFrame(columns=[overyear]))\n",
    "    data=pd.read_csv(file)\n",
    "    restr2=data[['sofifa_id','overall']]\n",
    "    for i in range(restr2.shape[0]):\n",
    "        v = restr2.loc[i,'sofifa_id']\n",
    "        if v in list(restr['sofifa_id']):\n",
    "            q = restr.query('sofifa_id==@v').head().index[0]\n",
    "            restr.loc[q,overyear] = restr2.loc[i,'overall']\n",
    "            \n",
    "restr.to_csv('../data/dataFull.csv',index=False)\n",
    "\n",
    "overalls=data.iloc[:,12:17].join(data.iloc[:,4])\n",
    "overalls.to_csv('../data/overalls.csv',index=False)\n",
    "\n",
    "print('End parsing.')"
   ]
  },
  {
   "cell_type": "code",
   "execution_count": null,
   "metadata": {},
   "outputs": [],
   "source": [
    "label=['pace_diving','shooting_handling','passing_kicking','dribbling_reflexes','defending_speed','physic_positioning']\n",
    "att=['Y1','Y2','Y3','Y4','Y5','Y6']\n",
    "print('\\nComputing PCA')\n",
    "data=pd.read_csv('../data/data20.csv')\n",
    "restr=data.loc[:,label[0]:label[-1]]\n",
    "pca = PCA(n_components=6, whiten=True)\n",
    "pca_result = pca.fit_transform(restr.values)\n",
    "restr_pca = pd.DataFrame(columns=att)\n",
    "for i,j in zip(att,range(6)):\n",
    "    restr_pca[i] = pca_result[:,j]\n",
    "restr_pca.to_csv('../data/pca.csv',index=False)\n",
    "print('Done.')"
   ]
  },
  {
   "cell_type": "code",
   "execution_count": null,
   "metadata": {},
   "outputs": [],
   "source": [
    "print('\\nGenerating JSON')\n",
    "veryFull=pd.read_csv('../data/dataFull.csv').join(pd.read_csv('../data/pca.csv'))\n",
    "\n",
    "dicTransf = {'Northern Ireland':'United Kingdom','Republic of Ireland':'Ireland','Scotland':'United Kingdom','Wales':'United Kingdom', 'England':'United Kingdom'}\n",
    "l = list(veryFull.loc[:,'nationality'])\n",
    "for i, j in zip(l,range(len(l))):\n",
    "    try:\n",
    "        dicTransf[i]\n",
    "        veryFull.loc[j,'nationality'] = dicTransf[i]\n",
    "    except KeyError:\n",
    "        pass\n",
    "    \n",
    "urls = pd.read_csv('../data/urlsTemp.csv')\n",
    "l = list(urls['player_url'])\n",
    "for i, ind in zip(l,range(len(l))):\n",
    "    imgurl = 'http://cdn.sofifa.org/players/10/20/'+str(i.split('/')[4])+'.png'\n",
    "    urls.iloc[ind] = imgurl\n",
    "    \n",
    "veryFull=veryFull.join(urls)\n",
    " \n",
    "veryFull.to_csv('../data/dataVeryFull.csv', index=False)\n",
    "veryFull.to_json('../data/dataVeryFull.json', orient='records', indent=4)\n",
    "print('Done.')"
   ]
  },
  {
   "cell_type": "code",
   "execution_count": null,
   "metadata": {},
   "outputs": [],
   "source": [
    "os.remove('../data/data20.csv')\n",
    "os.remove('../data/dataFull.csv')\n",
    "os.remove('../data/overalls.csv')\n",
    "os.remove('../data/pca.csv')\n",
    "os.remove('../data/dataVeryFull.csv')\n",
    "os.remove('../data/urlsTemp.csv')"
   ]
  },
  {
   "cell_type": "code",
   "execution_count": null,
   "metadata": {},
   "outputs": [],
   "source": []
  }
 ],
 "metadata": {
  "kernelspec": {
   "display_name": "Python 3",
   "language": "python",
   "name": "python3"
  },
  "language_info": {
   "codemirror_mode": {
    "name": "ipython",
    "version": 3
   },
   "file_extension": ".py",
   "mimetype": "text/x-python",
   "name": "python",
   "nbconvert_exporter": "python",
   "pygments_lexer": "ipython3",
   "version": "3.6.10"
  }
 },
 "nbformat": 4,
 "nbformat_minor": 2
}
